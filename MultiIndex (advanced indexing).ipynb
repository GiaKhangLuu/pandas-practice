{
 "cells": [
  {
   "cell_type": "code",
   "execution_count": null,
   "id": "b9cbd517",
   "metadata": {},
   "outputs": [],
   "source": [
    "import numpy as np\n",
    "import pandas as pd"
   ]
  },
  {
   "cell_type": "markdown",
   "id": "29b47052",
   "metadata": {},
   "source": [
    "# 1. Hierarchical Indexing (MultiIndex)\n",
    "## 1.1. Creating a MultiIndex (hierarchical index) object"
   ]
  },
  {
   "cell_type": "markdown",
   "id": "d490b4d6",
   "metadata": {},
   "source": [
    "Create `MultiIndex` from a list of arrays using `MultiIndex.from_arrays()`"
   ]
  },
  {
   "cell_type": "code",
   "execution_count": 2,
   "id": "9dcd0396",
   "metadata": {},
   "outputs": [
    {
     "name": "stdout",
     "output_type": "stream",
     "text": [
      "[('bar', 'one'), ('bar', 'two'), ('baz', 'one'), ('baz', 'two'), ('foo', 'one'), ('foo', 'two'), ('qux', 'one'), ('qux', 'two')]\n"
     ]
    }
   ],
   "source": [
    "arrays = [\n",
    "    ['bar', 'bar', 'baz', 'baz', 'foo', 'foo', 'qux', 'qux'],\n",
    "    ['one', 'two', 'one', 'two', 'one', 'two', 'one', 'two']\n",
    "]\n",
    "\n",
    "tuples = list(zip(*arrays))\n",
    "print(tuples)"
   ]
  },
  {
   "cell_type": "code",
   "execution_count": 3,
   "id": "7972b123",
   "metadata": {},
   "outputs": [
    {
     "name": "stdout",
     "output_type": "stream",
     "text": [
      "MultiIndex([('bar', 'one'),\n",
      "            ('bar', 'two'),\n",
      "            ('baz', 'one'),\n",
      "            ('baz', 'two'),\n",
      "            ('foo', 'one'),\n",
      "            ('foo', 'two'),\n",
      "            ('qux', 'one'),\n",
      "            ('qux', 'two')],\n",
      "           names=['first', 'second'])\n"
     ]
    }
   ],
   "source": [
    "index = pd.MultiIndex.from_tuples(tuples, names=['first', 'second'])\n",
    "print(index)"
   ]
  },
  {
   "cell_type": "code",
   "execution_count": 5,
   "id": "41fe4404",
   "metadata": {},
   "outputs": [
    {
     "name": "stdout",
     "output_type": "stream",
     "text": [
      "first  second\n",
      "bar    one      -0.570037\n",
      "       two      -0.221636\n",
      "baz    one       0.422605\n",
      "       two      -0.488381\n",
      "foo    one      -0.722394\n",
      "       two      -1.764910\n",
      "qux    one       0.370350\n",
      "       two       0.733640\n",
      "dtype: float64\n"
     ]
    }
   ],
   "source": [
    "s = pd.Series(np.random.randn(8), index=index)\n",
    "print(s)"
   ]
  },
  {
   "cell_type": "markdown",
   "id": "ae65feb3",
   "metadata": {},
   "source": [
    "Use `MultiIndex.from_product()` to pair the elements in two iterables"
   ]
  },
  {
   "cell_type": "code",
   "execution_count": 6,
   "id": "d0c0b847",
   "metadata": {},
   "outputs": [
    {
     "data": {
      "text/plain": [
       "MultiIndex([('bar', 'one'),\n",
       "            ('bar', 'two'),\n",
       "            ('baz', 'one'),\n",
       "            ('baz', 'two'),\n",
       "            ('foo', 'one'),\n",
       "            ('foo', 'two'),\n",
       "            ('qux', 'one'),\n",
       "            ('qux', 'two')],\n",
       "           names=['first', 'second'])"
      ]
     },
     "execution_count": 6,
     "metadata": {},
     "output_type": "execute_result"
    }
   ],
   "source": [
    "iterables = [['bar', 'baz', 'foo', 'qux'], ['one', 'two']]\n",
    "\n",
    "pd.MultiIndex.from_product(iterables, names=['first', 'second'])"
   ]
  },
  {
   "cell_type": "markdown",
   "id": "712f7771",
   "metadata": {},
   "source": [
    "Use `MultiIndex.from_frame()` to construct a `MultiIndex` from a `DataFrame` directly. This is a complementary method to `MultiIndex.to_frame()`"
   ]
  },
  {
   "cell_type": "code",
   "execution_count": 7,
   "id": "ea1c5ecb",
   "metadata": {},
   "outputs": [
    {
     "data": {
      "text/plain": [
       "MultiIndex([('bar', 'one'),\n",
       "            ('bar', 'two'),\n",
       "            ('foo', 'one'),\n",
       "            ('foo', 'two')],\n",
       "           names=['first', 'second'])"
      ]
     },
     "execution_count": 7,
     "metadata": {},
     "output_type": "execute_result"
    }
   ],
   "source": [
    "df = pd.DataFrame(\n",
    "    [['bar', 'one'], ['bar', 'two'], ['foo', 'one'], ['foo', 'two']],\n",
    "    columns=['first', 'second']\n",
    ")\n",
    "\n",
    "pd.MultiIndex.from_frame(df)"
   ]
  },
  {
   "cell_type": "markdown",
   "id": "04b2f13c",
   "metadata": {},
   "source": [
    "You can pass a list of arrays directly into `Series` or `DataFrame` to construct a `MultiIndex` automatically:"
   ]
  },
  {
   "cell_type": "code",
   "execution_count": 8,
   "id": "e5c8a7b9",
   "metadata": {},
   "outputs": [
    {
     "name": "stdout",
     "output_type": "stream",
     "text": [
      "bar  one   -0.726450\n",
      "     two   -0.661707\n",
      "baz  one    0.402740\n",
      "     two    1.611377\n",
      "foo  one    0.327615\n",
      "     two   -0.000124\n",
      "qux  one    0.118475\n",
      "     two   -0.446800\n",
      "dtype: float64\n"
     ]
    }
   ],
   "source": [
    "arrays = [\n",
    "    np.array(['bar', 'bar', 'baz', 'baz', 'foo', 'foo', 'qux', 'qux']),\n",
    "    np.array(['one', 'two', 'one', 'two', 'one', 'two', 'one', 'two'])\n",
    "]\n",
    "\n",
    "s = pd.Series(np.random.randn(8), index=arrays)\n",
    "print(s)"
   ]
  },
  {
   "cell_type": "code",
   "execution_count": 29,
   "id": "d28ee427",
   "metadata": {},
   "outputs": [
    {
     "data": {
      "text/html": [
       "<div>\n",
       "<style scoped>\n",
       "    .dataframe tbody tr th:only-of-type {\n",
       "        vertical-align: middle;\n",
       "    }\n",
       "\n",
       "    .dataframe tbody tr th {\n",
       "        vertical-align: top;\n",
       "    }\n",
       "\n",
       "    .dataframe thead th {\n",
       "        text-align: right;\n",
       "    }\n",
       "</style>\n",
       "<table border=\"1\" class=\"dataframe\">\n",
       "  <thead>\n",
       "    <tr style=\"text-align: right;\">\n",
       "      <th></th>\n",
       "      <th></th>\n",
       "      <th>0</th>\n",
       "      <th>1</th>\n",
       "      <th>2</th>\n",
       "      <th>3</th>\n",
       "    </tr>\n",
       "  </thead>\n",
       "  <tbody>\n",
       "    <tr>\n",
       "      <th rowspan=\"2\" valign=\"top\">bar</th>\n",
       "      <th>one</th>\n",
       "      <td>-1.136077</td>\n",
       "      <td>0.477310</td>\n",
       "      <td>0.720747</td>\n",
       "      <td>0.588976</td>\n",
       "    </tr>\n",
       "    <tr>\n",
       "      <th>two</th>\n",
       "      <td>2.140633</td>\n",
       "      <td>0.643084</td>\n",
       "      <td>0.110517</td>\n",
       "      <td>-1.467639</td>\n",
       "    </tr>\n",
       "    <tr>\n",
       "      <th rowspan=\"2\" valign=\"top\">baz</th>\n",
       "      <th>one</th>\n",
       "      <td>-0.921315</td>\n",
       "      <td>-1.044878</td>\n",
       "      <td>0.934945</td>\n",
       "      <td>0.479942</td>\n",
       "    </tr>\n",
       "    <tr>\n",
       "      <th>two</th>\n",
       "      <td>-1.726369</td>\n",
       "      <td>0.733819</td>\n",
       "      <td>-1.361579</td>\n",
       "      <td>-0.987420</td>\n",
       "    </tr>\n",
       "    <tr>\n",
       "      <th rowspan=\"2\" valign=\"top\">foo</th>\n",
       "      <th>one</th>\n",
       "      <td>0.439748</td>\n",
       "      <td>0.222286</td>\n",
       "      <td>0.685588</td>\n",
       "      <td>-1.602266</td>\n",
       "    </tr>\n",
       "    <tr>\n",
       "      <th>two</th>\n",
       "      <td>-0.009369</td>\n",
       "      <td>-0.642167</td>\n",
       "      <td>-0.124715</td>\n",
       "      <td>0.074216</td>\n",
       "    </tr>\n",
       "    <tr>\n",
       "      <th rowspan=\"2\" valign=\"top\">qux</th>\n",
       "      <th>one</th>\n",
       "      <td>-0.052937</td>\n",
       "      <td>0.618344</td>\n",
       "      <td>-0.434850</td>\n",
       "      <td>-1.350119</td>\n",
       "    </tr>\n",
       "    <tr>\n",
       "      <th>two</th>\n",
       "      <td>0.101521</td>\n",
       "      <td>1.697946</td>\n",
       "      <td>1.638083</td>\n",
       "      <td>-0.521474</td>\n",
       "    </tr>\n",
       "  </tbody>\n",
       "</table>\n",
       "</div>"
      ],
      "text/plain": [
       "                0         1         2         3\n",
       "bar one -1.136077  0.477310  0.720747  0.588976\n",
       "    two  2.140633  0.643084  0.110517 -1.467639\n",
       "baz one -0.921315 -1.044878  0.934945  0.479942\n",
       "    two -1.726369  0.733819 -1.361579 -0.987420\n",
       "foo one  0.439748  0.222286  0.685588 -1.602266\n",
       "    two -0.009369 -0.642167 -0.124715  0.074216\n",
       "qux one -0.052937  0.618344 -0.434850 -1.350119\n",
       "    two  0.101521  1.697946  1.638083 -0.521474"
      ]
     },
     "execution_count": 29,
     "metadata": {},
     "output_type": "execute_result"
    }
   ],
   "source": [
    "df = pd.DataFrame(np.random.randn(8, 4), index=arrays)\n",
    "df"
   ]
  },
  {
   "cell_type": "markdown",
   "id": "d64efa3f",
   "metadata": {},
   "source": [
    "All of the `MultiIndex` constructors accept a `names` argument which stores string names for the levels themselves. If no names are provided, `None` will be assigned:"
   ]
  },
  {
   "cell_type": "code",
   "execution_count": 30,
   "id": "911333f5",
   "metadata": {},
   "outputs": [
    {
     "data": {
      "text/plain": [
       "FrozenList([None, None])"
      ]
     },
     "execution_count": 30,
     "metadata": {},
     "output_type": "execute_result"
    }
   ],
   "source": [
    "df.index.names"
   ]
  },
  {
   "cell_type": "markdown",
   "id": "0af73674",
   "metadata": {},
   "source": [
    "Similar example, but the `index` of `df` has `names`"
   ]
  },
  {
   "cell_type": "code",
   "execution_count": 31,
   "id": "b1b1eec0",
   "metadata": {},
   "outputs": [
    {
     "data": {
      "text/html": [
       "<div>\n",
       "<style scoped>\n",
       "    .dataframe tbody tr th:only-of-type {\n",
       "        vertical-align: middle;\n",
       "    }\n",
       "\n",
       "    .dataframe tbody tr th {\n",
       "        vertical-align: top;\n",
       "    }\n",
       "\n",
       "    .dataframe thead th {\n",
       "        text-align: right;\n",
       "    }\n",
       "</style>\n",
       "<table border=\"1\" class=\"dataframe\">\n",
       "  <thead>\n",
       "    <tr style=\"text-align: right;\">\n",
       "      <th></th>\n",
       "      <th></th>\n",
       "      <th>0</th>\n",
       "      <th>1</th>\n",
       "      <th>2</th>\n",
       "      <th>3</th>\n",
       "    </tr>\n",
       "    <tr>\n",
       "      <th>first</th>\n",
       "      <th>second</th>\n",
       "      <th></th>\n",
       "      <th></th>\n",
       "      <th></th>\n",
       "      <th></th>\n",
       "    </tr>\n",
       "  </thead>\n",
       "  <tbody>\n",
       "    <tr>\n",
       "      <th rowspan=\"2\" valign=\"top\">bar</th>\n",
       "      <th>one</th>\n",
       "      <td>-0.481756</td>\n",
       "      <td>-0.848918</td>\n",
       "      <td>-1.586441</td>\n",
       "      <td>0.710430</td>\n",
       "    </tr>\n",
       "    <tr>\n",
       "      <th>two</th>\n",
       "      <td>-1.205549</td>\n",
       "      <td>-1.203687</td>\n",
       "      <td>1.992126</td>\n",
       "      <td>-0.481374</td>\n",
       "    </tr>\n",
       "    <tr>\n",
       "      <th rowspan=\"2\" valign=\"top\">baz</th>\n",
       "      <th>one</th>\n",
       "      <td>-0.637913</td>\n",
       "      <td>0.626489</td>\n",
       "      <td>1.083724</td>\n",
       "      <td>0.547852</td>\n",
       "    </tr>\n",
       "    <tr>\n",
       "      <th>two</th>\n",
       "      <td>2.138898</td>\n",
       "      <td>2.505168</td>\n",
       "      <td>-0.757101</td>\n",
       "      <td>1.542089</td>\n",
       "    </tr>\n",
       "    <tr>\n",
       "      <th rowspan=\"2\" valign=\"top\">foo</th>\n",
       "      <th>one</th>\n",
       "      <td>0.648321</td>\n",
       "      <td>-0.127591</td>\n",
       "      <td>-0.002398</td>\n",
       "      <td>1.298445</td>\n",
       "    </tr>\n",
       "    <tr>\n",
       "      <th>two</th>\n",
       "      <td>-2.017968</td>\n",
       "      <td>-1.139336</td>\n",
       "      <td>-1.570778</td>\n",
       "      <td>0.681335</td>\n",
       "    </tr>\n",
       "    <tr>\n",
       "      <th rowspan=\"2\" valign=\"top\">qux</th>\n",
       "      <th>one</th>\n",
       "      <td>-2.708860</td>\n",
       "      <td>-0.221162</td>\n",
       "      <td>0.375286</td>\n",
       "      <td>1.284937</td>\n",
       "    </tr>\n",
       "    <tr>\n",
       "      <th>two</th>\n",
       "      <td>0.562720</td>\n",
       "      <td>0.032988</td>\n",
       "      <td>1.509337</td>\n",
       "      <td>-0.542731</td>\n",
       "    </tr>\n",
       "  </tbody>\n",
       "</table>\n",
       "</div>"
      ],
      "text/plain": [
       "                     0         1         2         3\n",
       "first second                                        \n",
       "bar   one    -0.481756 -0.848918 -1.586441  0.710430\n",
       "      two    -1.205549 -1.203687  1.992126 -0.481374\n",
       "baz   one    -0.637913  0.626489  1.083724  0.547852\n",
       "      two     2.138898  2.505168 -0.757101  1.542089\n",
       "foo   one     0.648321 -0.127591 -0.002398  1.298445\n",
       "      two    -2.017968 -1.139336 -1.570778  0.681335\n",
       "qux   one    -2.708860 -0.221162  0.375286  1.284937\n",
       "      two     0.562720  0.032988  1.509337 -0.542731"
      ]
     },
     "execution_count": 31,
     "metadata": {},
     "output_type": "execute_result"
    }
   ],
   "source": [
    "df = pd.DataFrame(np.random.randn(8, 4),\n",
    "                  index=pd.MultiIndex.from_tuples(list(zip(*arrays)), names=['first', 'second']))\n",
    "df"
   ]
  },
  {
   "cell_type": "code",
   "execution_count": 32,
   "id": "2d0ecd32",
   "metadata": {},
   "outputs": [
    {
     "data": {
      "text/plain": [
       "FrozenList(['first', 'second'])"
      ]
     },
     "execution_count": 32,
     "metadata": {},
     "output_type": "execute_result"
    }
   ],
   "source": [
    "df.index.names"
   ]
  },
  {
   "cell_type": "markdown",
   "id": "b028f53d",
   "metadata": {},
   "source": [
    "This index can back any axis of a pandas object, and the number of **levels** of the index is up to you"
   ]
  },
  {
   "cell_type": "code",
   "execution_count": 35,
   "id": "62ac948b",
   "metadata": {},
   "outputs": [
    {
     "name": "stdout",
     "output_type": "stream",
     "text": [
      "first        bar                 baz                 foo                 qux  \\\n",
      "second       one       two       one       two       one       two       one   \n",
      "A       1.943865 -0.253741 -0.935066  0.569808 -1.142609  0.247549 -0.566648   \n",
      "B       0.090774  1.082529  1.783811  1.665499 -0.524537 -0.567881 -0.404460   \n",
      "C      -0.788228  0.409432 -1.762442  1.306270  0.199252 -0.967424 -0.124007   \n",
      "\n",
      "first             \n",
      "second       two  \n",
      "A      -0.249839  \n",
      "B       0.363176  \n",
      "C      -0.865870  \n"
     ]
    }
   ],
   "source": [
    "df = pd.DataFrame(np.random.randn(3, 8), index=['A', 'B', 'C'], columns=index)\n",
    "print(df)"
   ]
  },
  {
   "cell_type": "code",
   "execution_count": 38,
   "id": "02b2467e",
   "metadata": {},
   "outputs": [
    {
     "data": {
      "text/html": [
       "<div>\n",
       "<style scoped>\n",
       "    .dataframe tbody tr th:only-of-type {\n",
       "        vertical-align: middle;\n",
       "    }\n",
       "\n",
       "    .dataframe tbody tr th {\n",
       "        vertical-align: top;\n",
       "    }\n",
       "\n",
       "    .dataframe thead tr th {\n",
       "        text-align: left;\n",
       "    }\n",
       "\n",
       "    .dataframe thead tr:last-of-type th {\n",
       "        text-align: right;\n",
       "    }\n",
       "</style>\n",
       "<table border=\"1\" class=\"dataframe\">\n",
       "  <thead>\n",
       "    <tr>\n",
       "      <th></th>\n",
       "      <th>first</th>\n",
       "      <th colspan=\"2\" halign=\"left\">bar</th>\n",
       "      <th colspan=\"2\" halign=\"left\">baz</th>\n",
       "      <th colspan=\"2\" halign=\"left\">foo</th>\n",
       "    </tr>\n",
       "    <tr>\n",
       "      <th></th>\n",
       "      <th>second</th>\n",
       "      <th>one</th>\n",
       "      <th>two</th>\n",
       "      <th>one</th>\n",
       "      <th>two</th>\n",
       "      <th>one</th>\n",
       "      <th>two</th>\n",
       "    </tr>\n",
       "    <tr>\n",
       "      <th>first</th>\n",
       "      <th>second</th>\n",
       "      <th></th>\n",
       "      <th></th>\n",
       "      <th></th>\n",
       "      <th></th>\n",
       "      <th></th>\n",
       "      <th></th>\n",
       "    </tr>\n",
       "  </thead>\n",
       "  <tbody>\n",
       "    <tr>\n",
       "      <th rowspan=\"2\" valign=\"top\">bar</th>\n",
       "      <th>one</th>\n",
       "      <td>1.100674</td>\n",
       "      <td>-0.402734</td>\n",
       "      <td>1.541273</td>\n",
       "      <td>0.516486</td>\n",
       "      <td>-0.130038</td>\n",
       "      <td>0.415169</td>\n",
       "    </tr>\n",
       "    <tr>\n",
       "      <th>two</th>\n",
       "      <td>0.027089</td>\n",
       "      <td>0.350919</td>\n",
       "      <td>0.091036</td>\n",
       "      <td>0.745868</td>\n",
       "      <td>-1.054244</td>\n",
       "      <td>1.445607</td>\n",
       "    </tr>\n",
       "    <tr>\n",
       "      <th rowspan=\"2\" valign=\"top\">baz</th>\n",
       "      <th>one</th>\n",
       "      <td>0.411500</td>\n",
       "      <td>1.948296</td>\n",
       "      <td>-1.074115</td>\n",
       "      <td>0.856349</td>\n",
       "      <td>-0.408564</td>\n",
       "      <td>-0.918802</td>\n",
       "    </tr>\n",
       "    <tr>\n",
       "      <th>two</th>\n",
       "      <td>-1.940771</td>\n",
       "      <td>-0.536189</td>\n",
       "      <td>0.794369</td>\n",
       "      <td>0.017011</td>\n",
       "      <td>1.233258</td>\n",
       "      <td>0.358535</td>\n",
       "    </tr>\n",
       "    <tr>\n",
       "      <th rowspan=\"2\" valign=\"top\">foo</th>\n",
       "      <th>one</th>\n",
       "      <td>1.159481</td>\n",
       "      <td>0.674674</td>\n",
       "      <td>1.177860</td>\n",
       "      <td>1.146307</td>\n",
       "      <td>-0.782274</td>\n",
       "      <td>-1.374995</td>\n",
       "    </tr>\n",
       "    <tr>\n",
       "      <th>two</th>\n",
       "      <td>1.032526</td>\n",
       "      <td>1.199748</td>\n",
       "      <td>0.366244</td>\n",
       "      <td>-0.319034</td>\n",
       "      <td>-0.085805</td>\n",
       "      <td>0.533111</td>\n",
       "    </tr>\n",
       "  </tbody>\n",
       "</table>\n",
       "</div>"
      ],
      "text/plain": [
       "first              bar                 baz                 foo          \n",
       "second             one       two       one       two       one       two\n",
       "first second                                                            \n",
       "bar   one     1.100674 -0.402734  1.541273  0.516486 -0.130038  0.415169\n",
       "      two     0.027089  0.350919  0.091036  0.745868 -1.054244  1.445607\n",
       "baz   one     0.411500  1.948296 -1.074115  0.856349 -0.408564 -0.918802\n",
       "      two    -1.940771 -0.536189  0.794369  0.017011  1.233258  0.358535\n",
       "foo   one     1.159481  0.674674  1.177860  1.146307 -0.782274 -1.374995\n",
       "      two     1.032526  1.199748  0.366244 -0.319034 -0.085805  0.533111"
      ]
     },
     "execution_count": 38,
     "metadata": {},
     "output_type": "execute_result"
    }
   ],
   "source": [
    "pd.DataFrame(np.random.randn(6, 6), index=index[:6], columns=index[:6])"
   ]
  },
  {
   "cell_type": "markdown",
   "id": "81e9a585",
   "metadata": {},
   "source": [
    "The higher levels of the indexes is \"sparsified\" to make the console output a bit easier to see. Note that how the index is displayed can be controlled using the `multi_sparse` option in `pandas.set_options()`:"
   ]
  },
  {
   "cell_type": "code",
   "execution_count": 40,
   "id": "b377715b",
   "metadata": {},
   "outputs": [
    {
     "name": "stdout",
     "output_type": "stream",
     "text": [
      "first        bar       bar       baz       baz       foo       foo       qux  \\\n",
      "second       one       two       one       two       one       two       one   \n",
      "A       1.943865 -0.253741 -0.935066  0.569808 -1.142609  0.247549 -0.566648   \n",
      "B       0.090774  1.082529  1.783811  1.665499 -0.524537 -0.567881 -0.404460   \n",
      "C      -0.788228  0.409432 -1.762442  1.306270  0.199252 -0.967424 -0.124007   \n",
      "\n",
      "first        qux  \n",
      "second       two  \n",
      "A      -0.249839  \n",
      "B       0.363176  \n",
      "C      -0.865870  \n"
     ]
    }
   ],
   "source": [
    "with pd.option_context('display.multi_sparse', False):\n",
    "    print(df)"
   ]
  },
  {
   "cell_type": "code",
   "execution_count": 42,
   "id": "c6f322cd",
   "metadata": {},
   "outputs": [
    {
     "data": {
      "text/plain": [
       "(bar, one)    1.006283\n",
       "(bar, two)   -1.149321\n",
       "(baz, one)    1.113813\n",
       "(baz, two)   -0.440520\n",
       "(foo, one)    1.092848\n",
       "(foo, two)   -0.452644\n",
       "(qux, one)    0.162460\n",
       "(qux, two)    3.429784\n",
       "dtype: float64"
      ]
     },
     "execution_count": 42,
     "metadata": {},
     "output_type": "execute_result"
    }
   ],
   "source": [
    "pd.Series(np.random.randn(8), index=tuples)"
   ]
  },
  {
   "cell_type": "markdown",
   "id": "0c517d75",
   "metadata": {},
   "source": [
    "The reason that the `MultiIndex` matters is that it can allow you to do grouping, selection, and reshaping operations as we will describe below and in subsequent areas of the documentations. As you will see in later sections, you can find yourself working with hierarchically-indexed data without creating a `MultiIndex` explicitly yourself. However, when loading data from a file, you may wish to generate your own `MultiIndex` when preparing the data set."
   ]
  },
  {
   "cell_type": "markdown",
   "id": "898f552c",
   "metadata": {},
   "source": [
    "## 1.2. Reconstructing the level labels"
   ]
  },
  {
   "cell_type": "markdown",
   "id": "4d6005f8",
   "metadata": {},
   "source": [
    "The method `get_level_values()` will return a vector of labels for each location at a particular level:"
   ]
  },
  {
   "cell_type": "code",
   "execution_count": 44,
   "id": "9f4fae6b",
   "metadata": {},
   "outputs": [
    {
     "data": {
      "text/plain": [
       "Index(['bar', 'bar', 'baz', 'baz', 'foo', 'foo', 'qux', 'qux'], dtype='object', name='first')"
      ]
     },
     "execution_count": 44,
     "metadata": {},
     "output_type": "execute_result"
    }
   ],
   "source": [
    "index.get_level_values(0)"
   ]
  },
  {
   "cell_type": "code",
   "execution_count": 46,
   "id": "6bdd143b",
   "metadata": {},
   "outputs": [
    {
     "data": {
      "text/plain": [
       "Index(['one', 'two', 'one', 'two', 'one', 'two', 'one', 'two'], dtype='object', name='second')"
      ]
     },
     "execution_count": 46,
     "metadata": {},
     "output_type": "execute_result"
    }
   ],
   "source": [
    "index.get_level_values(1)"
   ]
  },
  {
   "cell_type": "markdown",
   "id": "6a184125",
   "metadata": {},
   "source": [
    "## 1.3. Basic indexing on axis with MultiIndex"
   ]
  },
  {
   "cell_type": "markdown",
   "id": "2ba5bd4f",
   "metadata": {},
   "source": [
    "One of the important features of hierarchical indexing is that you can select data by a \"partial\" label identifying a subgroup in the data. **Partial** selection \"drops\" levels of the hierarchical index in the result in a completely analogous way to selecting a column in a regular DataFrame:"
   ]
  },
  {
   "cell_type": "code",
   "execution_count": 50,
   "id": "f14cbcc2",
   "metadata": {},
   "outputs": [
    {
     "data": {
      "text/html": [
       "<div>\n",
       "<style scoped>\n",
       "    .dataframe tbody tr th:only-of-type {\n",
       "        vertical-align: middle;\n",
       "    }\n",
       "\n",
       "    .dataframe tbody tr th {\n",
       "        vertical-align: top;\n",
       "    }\n",
       "\n",
       "    .dataframe thead th {\n",
       "        text-align: right;\n",
       "    }\n",
       "</style>\n",
       "<table border=\"1\" class=\"dataframe\">\n",
       "  <thead>\n",
       "    <tr style=\"text-align: right;\">\n",
       "      <th>second</th>\n",
       "      <th>one</th>\n",
       "      <th>two</th>\n",
       "    </tr>\n",
       "  </thead>\n",
       "  <tbody>\n",
       "    <tr>\n",
       "      <th>A</th>\n",
       "      <td>1.943865</td>\n",
       "      <td>-0.253741</td>\n",
       "    </tr>\n",
       "    <tr>\n",
       "      <th>B</th>\n",
       "      <td>0.090774</td>\n",
       "      <td>1.082529</td>\n",
       "    </tr>\n",
       "    <tr>\n",
       "      <th>C</th>\n",
       "      <td>-0.788228</td>\n",
       "      <td>0.409432</td>\n",
       "    </tr>\n",
       "  </tbody>\n",
       "</table>\n",
       "</div>"
      ],
      "text/plain": [
       "second       one       two\n",
       "A       1.943865 -0.253741\n",
       "B       0.090774  1.082529\n",
       "C      -0.788228  0.409432"
      ]
     },
     "execution_count": 50,
     "metadata": {},
     "output_type": "execute_result"
    }
   ],
   "source": [
    "df[\"bar\"]"
   ]
  },
  {
   "cell_type": "code",
   "execution_count": 51,
   "id": "db9e03f5",
   "metadata": {},
   "outputs": [
    {
     "data": {
      "text/plain": [
       "A    1.943865\n",
       "B    0.090774\n",
       "C   -0.788228\n",
       "Name: (bar, one), dtype: float64"
      ]
     },
     "execution_count": 51,
     "metadata": {},
     "output_type": "execute_result"
    }
   ],
   "source": [
    "df[\"bar\", \"one\"]"
   ]
  },
  {
   "cell_type": "code",
   "execution_count": 52,
   "id": "a1e84398",
   "metadata": {},
   "outputs": [
    {
     "data": {
      "text/plain": [
       "A    1.943865\n",
       "B    0.090774\n",
       "C   -0.788228\n",
       "Name: one, dtype: float64"
      ]
     },
     "execution_count": 52,
     "metadata": {},
     "output_type": "execute_result"
    }
   ],
   "source": [
    "df[\"bar\"][\"one\"]"
   ]
  },
  {
   "cell_type": "code",
   "execution_count": 54,
   "id": "bcf04f0e",
   "metadata": {},
   "outputs": [
    {
     "data": {
      "text/plain": [
       "one    0.118475\n",
       "two   -0.446800\n",
       "dtype: float64"
      ]
     },
     "execution_count": 54,
     "metadata": {},
     "output_type": "execute_result"
    }
   ],
   "source": [
    "s[\"qux\"]"
   ]
  },
  {
   "cell_type": "markdown",
   "id": "9ed90ce1",
   "metadata": {},
   "source": [
    "## 1.4. Defined levels"
   ]
  },
  {
   "cell_type": "markdown",
   "id": "2809e24a",
   "metadata": {},
   "source": [
    "The `MultiIndex` keeps all the defined levels of an index, even if they are not actually used. When slicing an index, you may notice this. For example:"
   ]
  },
  {
   "cell_type": "code",
   "execution_count": 58,
   "id": "33a67f2b",
   "metadata": {},
   "outputs": [
    {
     "data": {
      "text/plain": [
       "FrozenList([['bar', 'baz', 'foo', 'qux'], ['one', 'two']])"
      ]
     },
     "execution_count": 58,
     "metadata": {},
     "output_type": "execute_result"
    }
   ],
   "source": [
    "# original MultiIndex\n",
    "df.columns.levels"
   ]
  },
  {
   "cell_type": "code",
   "execution_count": 59,
   "id": "e5d4cd58",
   "metadata": {},
   "outputs": [
    {
     "data": {
      "text/plain": [
       "FrozenList([['bar', 'baz', 'foo', 'qux'], ['one', 'two']])"
      ]
     },
     "execution_count": 59,
     "metadata": {},
     "output_type": "execute_result"
    }
   ],
   "source": [
    "# sliced\n",
    "df[['foo', 'qux']].columns.levels"
   ]
  },
  {
   "cell_type": "markdown",
   "id": "bcde68a5",
   "metadata": {},
   "source": [
    "This is done to avoid a recomputation of the levels in order to make slicing highly performant. If you want to see only the used levels, you can use the `get_level_values()` method"
   ]
  },
  {
   "cell_type": "code",
   "execution_count": 60,
   "id": "ac4ac683",
   "metadata": {},
   "outputs": [
    {
     "data": {
      "text/plain": [
       "array([('foo', 'one'), ('foo', 'two'), ('qux', 'one'), ('qux', 'two')],\n",
       "      dtype=object)"
      ]
     },
     "execution_count": 60,
     "metadata": {},
     "output_type": "execute_result"
    }
   ],
   "source": [
    "df[['foo', 'qux']].columns.to_numpy()"
   ]
  },
  {
   "cell_type": "code",
   "execution_count": 66,
   "id": "e140ab12",
   "metadata": {},
   "outputs": [
    {
     "data": {
      "text/plain": [
       "Index(['foo', 'foo', 'qux', 'qux'], dtype='object', name='first')"
      ]
     },
     "execution_count": 66,
     "metadata": {},
     "output_type": "execute_result"
    }
   ],
   "source": [
    "# for a specific level\n",
    "df[['foo', 'qux']].columns.get_level_values(0)"
   ]
  },
  {
   "cell_type": "markdown",
   "id": "28bbc285",
   "metadata": {},
   "source": [
    "To reconstruct the `MultiIndex` with only the used levels, the `remove_unused_levels()` method may be used"
   ]
  },
  {
   "cell_type": "code",
   "execution_count": 68,
   "id": "c63e9b5e",
   "metadata": {},
   "outputs": [
    {
     "data": {
      "text/plain": [
       "FrozenList([['foo', 'qux'], ['one', 'two']])"
      ]
     },
     "execution_count": 68,
     "metadata": {},
     "output_type": "execute_result"
    }
   ],
   "source": [
    "new_mi = df[['foo', 'qux']].columns.remove_unused_levels()\n",
    "\n",
    "new_mi.levels"
   ]
  },
  {
   "cell_type": "markdown",
   "id": "7d49a450",
   "metadata": {},
   "source": [
    "## 1.5. Data alignment and using `reindex`"
   ]
  },
  {
   "cell_type": "markdown",
   "id": "9470eda3",
   "metadata": {},
   "source": [
    "Operations between differently-indexed objects having `MultiIndex` on the axes will work as you expect; data alignment will work the same as an Index of tuples:"
   ]
  },
  {
   "cell_type": "code",
   "execution_count": 77,
   "id": "f1dacb2b",
   "metadata": {},
   "outputs": [
    {
     "data": {
      "text/plain": [
       "bar  one   -0.726450\n",
       "     two   -0.661707\n",
       "baz  one    0.402740\n",
       "     two    1.611377\n",
       "foo  one    0.327615\n",
       "     two   -0.000124\n",
       "qux  one    0.118475\n",
       "     two   -0.446800\n",
       "dtype: float64"
      ]
     },
     "execution_count": 77,
     "metadata": {},
     "output_type": "execute_result"
    }
   ],
   "source": [
    "s"
   ]
  },
  {
   "cell_type": "code",
   "execution_count": 74,
   "id": "3944e7b6",
   "metadata": {},
   "outputs": [
    {
     "data": {
      "text/plain": [
       "bar  one   -1.452899\n",
       "     two   -1.323414\n",
       "baz  one    0.805480\n",
       "     two    3.222754\n",
       "foo  one    0.655230\n",
       "     two   -0.000249\n",
       "qux  one         NaN\n",
       "     two         NaN\n",
       "dtype: float64"
      ]
     },
     "execution_count": 74,
     "metadata": {},
     "output_type": "execute_result"
    }
   ],
   "source": [
    "s + s[:-2]"
   ]
  },
  {
   "cell_type": "code",
   "execution_count": 75,
   "id": "485370aa",
   "metadata": {},
   "outputs": [
    {
     "data": {
      "text/plain": [
       "bar  one   -1.452899\n",
       "     two         NaN\n",
       "baz  one    0.805480\n",
       "     two         NaN\n",
       "foo  one    0.655230\n",
       "     two         NaN\n",
       "qux  one    0.236949\n",
       "     two         NaN\n",
       "dtype: float64"
      ]
     },
     "execution_count": 75,
     "metadata": {},
     "output_type": "execute_result"
    }
   ],
   "source": [
    "s + s[::2]"
   ]
  },
  {
   "cell_type": "markdown",
   "id": "134f5ecf",
   "metadata": {},
   "source": [
    "The `reindex()` method of `Series`/`DataFrame` can be called with another `MultiIndex`, or even a list or array of tuples"
   ]
  },
  {
   "cell_type": "code",
   "execution_count": 88,
   "id": "b258e8c2",
   "metadata": {},
   "outputs": [
    {
     "data": {
      "text/plain": [
       "first  second\n",
       "bar    one      -0.726450\n",
       "       two      -0.661707\n",
       "baz    one       0.402740\n",
       "dtype: float64"
      ]
     },
     "execution_count": 88,
     "metadata": {},
     "output_type": "execute_result"
    }
   ],
   "source": [
    "s.reindex(index[:3])"
   ]
  },
  {
   "cell_type": "code",
   "execution_count": 80,
   "id": "01b08596",
   "metadata": {},
   "outputs": [
    {
     "data": {
      "text/plain": [
       "foo  two   -0.000124\n",
       "bar  one   -0.726450\n",
       "qux  one    0.118475\n",
       "baz  one    0.402740\n",
       "dtype: float64"
      ]
     },
     "execution_count": 80,
     "metadata": {},
     "output_type": "execute_result"
    }
   ],
   "source": [
    "s.reindex([('foo', 'two'), ('bar', 'one'), ('qux', 'one'), ('baz', 'one')])"
   ]
  },
  {
   "cell_type": "code",
   "execution_count": null,
   "id": "b68c7f42",
   "metadata": {},
   "outputs": [],
   "source": []
  },
  {
   "cell_type": "markdown",
   "id": "9c849d5a",
   "metadata": {},
   "source": [
    "# Reference\n",
    "\n",
    "https://pandas.pydata.org/docs/user_guide/advanced.html#take-methods"
   ]
  },
  {
   "cell_type": "code",
   "execution_count": null,
   "id": "f0f28edf",
   "metadata": {},
   "outputs": [],
   "source": []
  }
 ],
 "metadata": {
  "kernelspec": {
   "display_name": "Python 3",
   "language": "python",
   "name": "python3"
  },
  "language_info": {
   "codemirror_mode": {
    "name": "ipython",
    "version": 3
   },
   "file_extension": ".py",
   "mimetype": "text/x-python",
   "name": "python",
   "nbconvert_exporter": "python",
   "pygments_lexer": "ipython3",
   "version": "3.8.8"
  }
 },
 "nbformat": 4,
 "nbformat_minor": 5
}
